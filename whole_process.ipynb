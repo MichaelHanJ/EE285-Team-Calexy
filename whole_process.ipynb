{
 "cells": [
  {
   "cell_type": "code",
   "execution_count": 1,
   "metadata": {},
   "outputs": [],
   "source": [
    "#from __future__ import division\n",
    "from PIL import Image, ImageTk\n",
    "import os\n",
    "import glob\n",
    "import random\n",
    "import sys\n",
    "import re\n",
    "import numpy as np\n",
    "import pandas as pd\n",
    "import matplotlib.pyplot as plt \n",
    "#from time import gmtime, strftime\n",
    "#from scipy.signal import butter, lfilter,savgol_filter\n",
    "#from_future_import division\n",
    "#import scipy as sp\n",
    "#from ctypes import *\n",
    "from clip_image import clipping_image"
   ]
  },
  {
   "cell_type": "code",
   "execution_count": 6,
   "metadata": {},
   "outputs": [],
   "source": [
    "def whole_process(imagename):\n",
    "    #yolo output cropped images\n",
    "    image_crop = clipping_image(\"test_11.PNG\") # returning the txt file paths of the saved paths of cropped images\n",
    "    "
   ]
  },
  {
   "cell_type": "code",
   "execution_count": 8,
   "metadata": {},
   "outputs": [
    {
     "name": "stdout",
     "output_type": "stream",
     "text": [
      "/datasets/home/83/383/zhh045/ece285/project/darknet/cropped_images/cropped_image_path.txt\n"
     ]
    }
   ],
   "source": [
    "print image_crop\n"
   ]
  },
  {
   "cell_type": "code",
   "execution_count": null,
   "metadata": {},
   "outputs": [],
   "source": []
  }
 ],
 "metadata": {
  "kernelspec": {
   "display_name": "Python 2",
   "language": "python",
   "name": "python2"
  },
  "language_info": {
   "codemirror_mode": {
    "name": "ipython",
    "version": 2
   },
   "file_extension": ".py",
   "mimetype": "text/x-python",
   "name": "python",
   "nbconvert_exporter": "python",
   "pygments_lexer": "ipython2",
   "version": "2.7.14"
  }
 },
 "nbformat": 4,
 "nbformat_minor": 2
}
